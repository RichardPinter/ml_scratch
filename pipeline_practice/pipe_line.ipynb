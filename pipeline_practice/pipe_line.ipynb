{
 "cells": [
  {
   "cell_type": "code",
   "execution_count": 1,
   "id": "67ce22f1",
   "metadata": {
    "tags": []
   },
   "outputs": [],
   "source": [
    "# Importing libraries\n",
    "import pandas as pd\n",
    "import numpy as np\n",
    "from sklearn.compose import ColumnTransformer\n",
    "from sklearn.pipeline import Pipeline\n",
    "from sklearn.preprocessing import StandardScaler, OneHotEncoder, PolynomialFeatures\n",
    "from sklearn.linear_model import LinearRegression\n",
    "from sklearn.model_selection import train_test_split, cross_val_score, KFold, LeaveOneOut\n",
    "from sklearn.neighbors import KNeighborsRegressor\n",
    "from sklearn.ensemble import RandomForestRegressor, GradientBoostingRegressor\n",
    "from scipy.spatial import distance_matrix\n",
    "from tqdm import tqdm\n",
    "from multiprocessing import Pool\n",
    "import time"
   ]
  },
  {
   "cell_type": "markdown",
   "id": "c3dfb5bb-df52-47e8-86af-59048ad67bab",
   "metadata": {},
   "source": [
    "# Fit linear regression to the data"
   ]
  },
  {
   "cell_type": "code",
   "execution_count": 2,
   "id": "22acb86b-6a26-4d99-8982-cbf2e0341914",
   "metadata": {
    "tags": []
   },
   "outputs": [],
   "source": [
    "# Create grid\n",
    "GRID_SIZE = 50\n",
    "latitude = np.repeat(range(GRID_SIZE),GRID_SIZE)\n",
    "longitude = np.tile(np.arange(GRID_SIZE),GRID_SIZE)\n",
    "size = len(longitude)\n",
    "x = np.random.uniform(0,10,size)\n",
    "x1 = np.random.uniform(0,10,size)\n",
    "x2 = np.random.uniform(0,10,size)\n",
    "data = np.random.choice(a = ['a','b','c'], size = size, p=[0.5, 0.3, 0.2])\n",
    "y = x**2 + np.random.normal(0,1,size)\n",
    "df = pd.DataFrame({'longitude':longitude,'latitude':latitude,'x':x,'x1':x1,'x2':x2,'y':y,'class':data})\n",
    "numeric_features = ['x','x1','x2']\n",
    "categorical_features = ['class']\n",
    "location = ['longitude', 'latitude']\n",
    "X,y = df[numeric_features+location+categorical_features],df[['y']]"
   ]
  },
  {
   "cell_type": "markdown",
   "id": "d3b30ebd-c576-4f9d-ab10-1bee9d904932",
   "metadata": {},
   "source": [
    "# IDW using scikit learn KNeighborsRegressor"
   ]
  },
  {
   "cell_type": "code",
   "execution_count": 3,
   "id": "65007c20-48a5-493e-91c5-16e530cef312",
   "metadata": {
    "tags": []
   },
   "outputs": [],
   "source": [
    "def baseline(dictionary, X_train, y_train, X_test, location):\n",
    "    \"\"\"Create base line models for comparison purposes\"\"\"\n",
    "    idw = KNeighborsRegressor(weights='distance')\n",
    "    predicted = idw.fit(X_train[location],y_train)\n",
    "    dictionary['IDW'] = idw.predict(X_test[location])[0][0]\n",
    "    dictionary['Mean_imput'] = np.mean(y_train.iloc[:,0])\n",
    "    return dictionary\n",
    "    \n",
    "def regression(reg_dict, dictionary, X_train, X_test, y_train,  location, string):\n",
    "    \"\"\"Regression models\"\"\"\n",
    "    for name,reg in reg_dict.items():\n",
    "        name = name+string\n",
    "        reg.fit(X_train[location],y_train.values.ravel())\n",
    "        dictionary[name] = reg.predict(X_test[location])[0]\n",
    "    return dictionary\n",
    "\n",
    "def IDW_per_feature(X_train, X_test, numeric_features, location):\n",
    "    \"\"\" IDW per feature\"\"\"\n",
    "    X_predicted = X_test.copy()\n",
    "    for col in numeric_features:\n",
    "        idw = KNeighborsRegressor(weights='distance')\n",
    "        predicted = idw.fit(X_train[location],X_train[col])\n",
    "        X_predicted[col] = idw.predict(X_test[location])\n",
    "        return X_predicted\n",
    "\n",
    "def create_regression_models():\n",
    "    \"\"\" Create regression models \"\"\"\n",
    "    reg_RF = RandomForestRegressor()\n",
    "    reg_GB = GradientBoostingRegressor()\n",
    "    return {'rff':reg_RF,'xgb':reg_GB}\n",
    "\n",
    "def return_index_point_outside_radius(X_train, X_test, distance,location):\n",
    "    \"\"\"Return index where the points lie outside of the circle\"\"\"\n",
    "    distance_np = distance_matrix(X_train[location],X_test[location])\n",
    "    x_test_index = X_test.index.values[0]\n",
    "    distance_df = pd.DataFrame(distance_np)\n",
    "    new_index = {i: i+1 if i >= x_test_index else i for i in range(len(distance_np))}\n",
    "    distance_df = distance_df.rename(index=new_index)\n",
    "    return distance_df[distance_df.iloc[:,0]>distance].index.to_numpy()\n",
    "\n",
    "\n",
    "def return_same_class(X_train, y_train, X_test):\n",
    "    \"\"\"Returns only the values that share the same class as the gridcell at X_test\"\"\"\n",
    "    X_train_new = X_train[X_train['class'] == X_test['class'].iloc[0]]\n",
    "    y_train_new = y_train.loc[X_train_new.index.to_numpy()]\n",
    "    \n",
    "    return X_train_new,y_train_new\n",
    "    "
   ]
  },
  {
   "cell_type": "code",
   "execution_count": 4,
   "id": "87143128-4fa5-4043-9b99-2cde33749274",
   "metadata": {
    "tags": []
   },
   "outputs": [
    {
     "name": "stderr",
     "output_type": "stream",
     "text": [
      "2500it [18:46,  2.22it/s]"
     ]
    },
    {
     "name": "stdout",
     "output_type": "stream",
     "text": [
      "1126.798\n"
     ]
    },
    {
     "name": "stderr",
     "output_type": "stream",
     "text": [
      "\n"
     ]
    }
   ],
   "source": [
    "loo = LeaveOneOut()\n",
    "prediction_dict = {}\n",
    "distance = 10\n",
    "start = time.perf_counter()\n",
    "for i, (train_index, test_index) in tqdm(enumerate(loo.split(X))):\n",
    "    # Separeta the data\n",
    "    X_train_og, X_test_og, y_train_og, y_test_og = X.loc[train_index], X.loc[test_index], y.loc[train_index], y.loc[test_index]\n",
    "    # Cut out the buffer here\n",
    "    index_cut = return_index_point_outside_radius(X_train_og, X_test_og, distance,location)\n",
    "    X_train_cut, y_train_cut = X_train_og.loc[index_cut], y_train_og.loc[index_cut]\n",
    "    # Choose only the points that is the same category as y_test\n",
    "    X_train, y_train = return_same_class(X_train_cut, y_train_cut, X_test_og)\n",
    "    y_test, X_test = y_test_og, X_test_og\n",
    "    base_dict = {}\n",
    "    base_dict['CSO'] = y_test.values[0][0]\n",
    "    # Baseline calculation\n",
    "    base_dict = baseline(base_dict, X_train, y_train, X_test,location)\n",
    "    \n",
    "    # Regression only location, no additional variables\n",
    "    reg_dict = create_regression_models()\n",
    "    base_dict = regression(reg_dict, base_dict, X_train, X_test, y_train,  location, '')\n",
    "        \n",
    "    # IDW on the test point for the features\n",
    "    X_predicted = IDW_per_feature(X_train, X_test, numeric_features, location)\n",
    "    \n",
    "    # Regression using additional variables\n",
    "    reg_dict_additional = create_regression_models()\n",
    "    base_dict = regression(reg_dict_additional,base_dict, X_train, X_predicted, y_train, location, 'additional')\n",
    "    \n",
    "    # Update dictionary at test location\n",
    "    prediction_dict[test_index[0]] = base_dict\n",
    "finish  = time.perf_counter()\n",
    "print(f'{finish-start:.3f}')"
   ]
  },
  {
   "cell_type": "code",
   "execution_count": 5,
   "id": "b11436ec-b98f-4a87-b01f-e9dc43ced5d4",
   "metadata": {
    "tags": []
   },
   "outputs": [],
   "source": [
    "def process_data(args):\n",
    "    i, (train_index, test_index), X, y, numeric_features, location, distance = args\n",
    "    X_train_og, X_test_og, y_train_og, y_test_og = X.loc[train_index], X.loc[test_index], y.loc[train_index], y.loc[test_index]\n",
    "    # Cut out the buffer here\n",
    "    index_cut = return_index_point_outside_radius(X_train_og, X_test_og, distance,location)\n",
    "    X_train_cut, y_train_cut = X_train_og.loc[index_cut], y_train_og.loc[index_cut]\n",
    "    # Choose only the points that is the same category as y_test\n",
    "    X_train, y_train = return_same_class(X_train_cut, y_train_cut, X_test_og)\n",
    "    y_test, X_test = y_test_og, X_test_og\n",
    "    base_dict = {}\n",
    "    base_dict['CSO'] = y_test.values[0][0]\n",
    "    # Baseline calculation\n",
    "    base_dict = baseline(base_dict, X_train, y_train, X_test,location)\n",
    "\n",
    "    # Regression only location, no additional variables\n",
    "    reg_dict = create_regression_models()\n",
    "    base_dict = regression(reg_dict, base_dict, X_train, X_test, y_train,  location, '')\n",
    "        \n",
    "    # IDW on the test point for the features\n",
    "    X_predicted = IDW_per_feature(X_train, X_test, numeric_features, location)\n",
    "    \n",
    "    # Regression using additional variables\n",
    "    reg_dict_additional = create_regression_models()\n",
    "    base_dict = regression(reg_dict_additional,base_dict, X_train, X_predicted, y_train, location, 'additional')\n",
    "    \n",
    "    # Update dictionary at test location\n",
    "    # prediction_dict[test_index[0]] = base_dict\n",
    "    return (test_index[0],base_dict)"
   ]
  },
  {
   "cell_type": "code",
   "execution_count": 8,
   "id": "fe4f5f36-85ef-4296-845c-21125eff95fe",
   "metadata": {
    "tags": []
   },
   "outputs": [
    {
     "name": "stderr",
     "output_type": "stream",
     "text": [
      "100%|███████████████████████████████████████| 2500/2500 [07:24<00:00,  5.62it/s]"
     ]
    },
    {
     "name": "stdout",
     "output_type": "stream",
     "text": [
      "445.059\n"
     ]
    },
    {
     "name": "stderr",
     "output_type": "stream",
     "text": [
      "\n"
     ]
    }
   ],
   "source": [
    "import multiprocessing\n",
    "start = time.perf_counter()\n",
    "prediction_dict_2 = {}\n",
    "if __name__ == '__main__':\n",
    "    pool = Pool(multiprocessing.cpu_count())\n",
    "    args = [(i, (train_index, test_index), X, y, numeric_features, location, distance) for i, (train_index, test_index) in enumerate(loo.split(X))]\n",
    "    prediction_dict_2 = dict(tqdm(pool.imap_unordered(process_data, args), total=len(args)))\n",
    "    pool.close()\n",
    "    pool.join()\n",
    "finish  = time.perf_counter()\n",
    "print(f'{finish-start:.3f}')"
   ]
  },
  {
   "cell_type": "code",
   "execution_count": 10,
   "id": "9daaefbc-a169-44c8-98c8-1c1c42e56c97",
   "metadata": {
    "tags": []
   },
   "outputs": [
    {
     "data": {
      "text/html": [
       "<div>\n",
       "<style scoped>\n",
       "    .dataframe tbody tr th:only-of-type {\n",
       "        vertical-align: middle;\n",
       "    }\n",
       "\n",
       "    .dataframe tbody tr th {\n",
       "        vertical-align: top;\n",
       "    }\n",
       "\n",
       "    .dataframe thead th {\n",
       "        text-align: right;\n",
       "    }\n",
       "</style>\n",
       "<table border=\"1\" class=\"dataframe\">\n",
       "  <thead>\n",
       "    <tr style=\"text-align: right;\">\n",
       "      <th></th>\n",
       "      <th>CSO</th>\n",
       "      <th>IDW</th>\n",
       "      <th>Mean_imput</th>\n",
       "      <th>rff</th>\n",
       "      <th>xgb</th>\n",
       "      <th>rffadditional</th>\n",
       "      <th>xgbadditional</th>\n",
       "    </tr>\n",
       "  </thead>\n",
       "  <tbody>\n",
       "    <tr>\n",
       "      <th>1</th>\n",
       "      <td>15.985190</td>\n",
       "      <td>21.397088</td>\n",
       "      <td>32.884237</td>\n",
       "      <td>28.571927</td>\n",
       "      <td>29.569899</td>\n",
       "      <td>27.502625</td>\n",
       "      <td>30.001427</td>\n",
       "    </tr>\n",
       "    <tr>\n",
       "      <th>8</th>\n",
       "      <td>88.215102</td>\n",
       "      <td>21.857939</td>\n",
       "      <td>32.636770</td>\n",
       "      <td>35.597115</td>\n",
       "      <td>37.135332</td>\n",
       "      <td>33.968693</td>\n",
       "      <td>37.135332</td>\n",
       "    </tr>\n",
       "    <tr>\n",
       "      <th>6</th>\n",
       "      <td>59.389290</td>\n",
       "      <td>16.679172</td>\n",
       "      <td>32.655112</td>\n",
       "      <td>18.792143</td>\n",
       "      <td>8.763012</td>\n",
       "      <td>17.740779</td>\n",
       "      <td>8.763012</td>\n",
       "    </tr>\n",
       "    <tr>\n",
       "      <th>11</th>\n",
       "      <td>71.915160</td>\n",
       "      <td>20.060690</td>\n",
       "      <td>33.428666</td>\n",
       "      <td>26.275545</td>\n",
       "      <td>26.576583</td>\n",
       "      <td>27.203327</td>\n",
       "      <td>26.576583</td>\n",
       "    </tr>\n",
       "    <tr>\n",
       "      <th>7</th>\n",
       "      <td>0.310546</td>\n",
       "      <td>39.361199</td>\n",
       "      <td>33.453616</td>\n",
       "      <td>18.502596</td>\n",
       "      <td>24.960930</td>\n",
       "      <td>18.608966</td>\n",
       "      <td>24.960930</td>\n",
       "    </tr>\n",
       "    <tr>\n",
       "      <th>...</th>\n",
       "      <td>...</td>\n",
       "      <td>...</td>\n",
       "      <td>...</td>\n",
       "      <td>...</td>\n",
       "      <td>...</td>\n",
       "      <td>...</td>\n",
       "      <td>...</td>\n",
       "    </tr>\n",
       "    <tr>\n",
       "      <th>2494</th>\n",
       "      <td>14.029533</td>\n",
       "      <td>23.594908</td>\n",
       "      <td>34.655468</td>\n",
       "      <td>15.976673</td>\n",
       "      <td>17.889566</td>\n",
       "      <td>16.442268</td>\n",
       "      <td>17.889566</td>\n",
       "    </tr>\n",
       "    <tr>\n",
       "      <th>2497</th>\n",
       "      <td>17.179143</td>\n",
       "      <td>47.882901</td>\n",
       "      <td>32.780849</td>\n",
       "      <td>38.653600</td>\n",
       "      <td>44.977303</td>\n",
       "      <td>35.038703</td>\n",
       "      <td>44.977303</td>\n",
       "    </tr>\n",
       "    <tr>\n",
       "      <th>2498</th>\n",
       "      <td>2.750451</td>\n",
       "      <td>12.026715</td>\n",
       "      <td>34.787560</td>\n",
       "      <td>42.716029</td>\n",
       "      <td>35.253625</td>\n",
       "      <td>40.650460</td>\n",
       "      <td>35.253625</td>\n",
       "    </tr>\n",
       "    <tr>\n",
       "      <th>2499</th>\n",
       "      <td>95.410453</td>\n",
       "      <td>15.566567</td>\n",
       "      <td>34.778218</td>\n",
       "      <td>74.036286</td>\n",
       "      <td>89.630019</td>\n",
       "      <td>72.387315</td>\n",
       "      <td>89.630019</td>\n",
       "    </tr>\n",
       "    <tr>\n",
       "      <th>2496</th>\n",
       "      <td>35.708754</td>\n",
       "      <td>26.670611</td>\n",
       "      <td>33.389530</td>\n",
       "      <td>42.647130</td>\n",
       "      <td>63.945883</td>\n",
       "      <td>46.622015</td>\n",
       "      <td>63.945883</td>\n",
       "    </tr>\n",
       "  </tbody>\n",
       "</table>\n",
       "<p>2500 rows × 7 columns</p>\n",
       "</div>"
      ],
      "text/plain": [
       "            CSO        IDW  Mean_imput        rff        xgb  rffadditional  \\\n",
       "1     15.985190  21.397088   32.884237  28.571927  29.569899      27.502625   \n",
       "8     88.215102  21.857939   32.636770  35.597115  37.135332      33.968693   \n",
       "6     59.389290  16.679172   32.655112  18.792143   8.763012      17.740779   \n",
       "11    71.915160  20.060690   33.428666  26.275545  26.576583      27.203327   \n",
       "7      0.310546  39.361199   33.453616  18.502596  24.960930      18.608966   \n",
       "...         ...        ...         ...        ...        ...            ...   \n",
       "2494  14.029533  23.594908   34.655468  15.976673  17.889566      16.442268   \n",
       "2497  17.179143  47.882901   32.780849  38.653600  44.977303      35.038703   \n",
       "2498   2.750451  12.026715   34.787560  42.716029  35.253625      40.650460   \n",
       "2499  95.410453  15.566567   34.778218  74.036286  89.630019      72.387315   \n",
       "2496  35.708754  26.670611   33.389530  42.647130  63.945883      46.622015   \n",
       "\n",
       "      xgbadditional  \n",
       "1         30.001427  \n",
       "8         37.135332  \n",
       "6          8.763012  \n",
       "11        26.576583  \n",
       "7         24.960930  \n",
       "...             ...  \n",
       "2494      17.889566  \n",
       "2497      44.977303  \n",
       "2498      35.253625  \n",
       "2499      89.630019  \n",
       "2496      63.945883  \n",
       "\n",
       "[2500 rows x 7 columns]"
      ]
     },
     "execution_count": 10,
     "metadata": {},
     "output_type": "execute_result"
    }
   ],
   "source": [
    "pd.DataFrame.from_dict(prediction_dict_2).T"
   ]
  },
  {
   "cell_type": "code",
   "execution_count": 12,
   "id": "569e8222-85fb-421a-bf6b-7a64235d0b3c",
   "metadata": {
    "tags": []
   },
   "outputs": [
    {
     "data": {
      "text/html": [
       "<div>\n",
       "<style scoped>\n",
       "    .dataframe tbody tr th:only-of-type {\n",
       "        vertical-align: middle;\n",
       "    }\n",
       "\n",
       "    .dataframe tbody tr th {\n",
       "        vertical-align: top;\n",
       "    }\n",
       "\n",
       "    .dataframe thead th {\n",
       "        text-align: right;\n",
       "    }\n",
       "</style>\n",
       "<table border=\"1\" class=\"dataframe\">\n",
       "  <thead>\n",
       "    <tr style=\"text-align: right;\">\n",
       "      <th></th>\n",
       "    </tr>\n",
       "  </thead>\n",
       "  <tbody>\n",
       "  </tbody>\n",
       "</table>\n",
       "</div>"
      ],
      "text/plain": [
       "Empty DataFrame\n",
       "Columns: []\n",
       "Index: []"
      ]
     },
     "execution_count": 12,
     "metadata": {},
     "output_type": "execute_result"
    }
   ],
   "source": [
    "pd.DataFrame.from_dict(prediction_dict).T"
   ]
  },
  {
   "cell_type": "code",
   "execution_count": null,
   "id": "6b688a83-5a52-4b8d-82af-0e029b4d8c49",
   "metadata": {},
   "outputs": [],
   "source": []
  }
 ],
 "metadata": {
  "kernelspec": {
   "display_name": "Python 3 (ipykernel)",
   "language": "python",
   "name": "python3"
  },
  "language_info": {
   "codemirror_mode": {
    "name": "ipython",
    "version": 3
   },
   "file_extension": ".py",
   "mimetype": "text/x-python",
   "name": "python",
   "nbconvert_exporter": "python",
   "pygments_lexer": "ipython3",
   "version": "3.10.6"
  }
 },
 "nbformat": 4,
 "nbformat_minor": 5
}
