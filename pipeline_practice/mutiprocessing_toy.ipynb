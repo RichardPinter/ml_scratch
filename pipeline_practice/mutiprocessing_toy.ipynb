{
 "cells": [
  {
   "cell_type": "code",
   "execution_count": 3,
   "id": "619f05f7-36d2-44c1-abc1-cca636e7b6be",
   "metadata": {
    "tags": []
   },
   "outputs": [],
   "source": [
    "# Importing libraries\n",
    "import pandas as pd\n",
    "import numpy as np\n",
    "from sklearn.compose import ColumnTransformer\n",
    "from sklearn.pipeline import Pipeline\n",
    "from sklearn.preprocessing import StandardScaler, OneHotEncoder, PolynomialFeatures\n",
    "from sklearn.linear_model import LinearRegression\n",
    "from sklearn.model_selection import train_test_split, cross_val_score, KFold, LeaveOneOut\n",
    "from sklearn.neighbors import KNeighborsRegressor\n",
    "from sklearn.ensemble import RandomForestRegressor, GradientBoostingRegressor\n",
    "from scipy.spatial import distance_matrix\n",
    "from tqdm import tqdm\n",
    "import multiprocessing "
   ]
  },
  {
   "cell_type": "code",
   "execution_count": 19,
   "id": "d526fdfa-f9fc-4620-bceb-f14855da391e",
   "metadata": {
    "tags": []
   },
   "outputs": [
    {
     "name": "stdout",
     "output_type": "stream",
     "text": [
      "Sleeping 0 second(s)...\n",
      "Done Sleeping...\n",
      "Sleeping 1 second(s)...\n",
      "Sleeping 2 second(s)...\n",
      "Sleeping 3 second(s)...\n",
      "Sleeping 4 second(s)...\n",
      "Sleeping 5 second(s)...\n",
      "Sleeping 6 second(s)...\n",
      "Sleeping 7 second(s)...\n",
      "Sleeping 8 second(s)...\n",
      "Sleeping 9 second(s)...\n",
      "Done Sleeping...\n",
      "Done Sleeping...\n",
      "Done Sleeping...\n",
      "Done Sleeping...\n",
      "Done Sleeping...\n",
      "Done Sleeping...\n",
      "Done Sleeping...\n",
      "Done Sleeping...\n",
      "Done Sleeping...\n",
      "9.095\n"
     ]
    }
   ],
   "source": [
    "import time\n",
    "start = time.perf_counter()\n",
    "\n",
    "def do_something(seconds):\n",
    "    print(f'Sleeping {seconds} second(s)...')\n",
    "    time.sleep(seconds)\n",
    "    print('Done Sleeping...')\n",
    "    \n",
    "# p1 = multiprocessing.Process(target = do_something)\n",
    "# p2 = multiprocessing.Process(target = do_something)\n",
    "# p1.start()\n",
    "# p2.start()\n",
    "# p1.join()\n",
    "# p2.join()\n",
    "\n",
    "processes = []\n",
    "for i in range(10):\n",
    "    p = multiprocessing.Process(target = do_something,args=[i])\n",
    "    processes.append(p)\n",
    "    p.start()\n",
    "for p in processes:\n",
    "    p.join()\n",
    "    # p.join()\n",
    "finish = time.perf_counter()\n",
    "print(f'{finish-start:.3f}')"
   ]
  },
  {
   "cell_type": "code",
   "execution_count": null,
   "id": "4e0b8103-e44b-444d-9d69-913a1057846c",
   "metadata": {},
   "outputs": [],
   "source": []
  }
 ],
 "metadata": {
  "kernelspec": {
   "display_name": "Python 3 (ipykernel)",
   "language": "python",
   "name": "python3"
  },
  "language_info": {
   "codemirror_mode": {
    "name": "ipython",
    "version": 3
   },
   "file_extension": ".py",
   "mimetype": "text/x-python",
   "name": "python",
   "nbconvert_exporter": "python",
   "pygments_lexer": "ipython3",
   "version": "3.10.6"
  }
 },
 "nbformat": 4,
 "nbformat_minor": 5
}
