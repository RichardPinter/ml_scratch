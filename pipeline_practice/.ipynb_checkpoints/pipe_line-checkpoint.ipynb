{
 "cells": [
  {
   "cell_type": "code",
   "execution_count": 5,
   "id": "67ce22f1",
   "metadata": {
    "tags": []
   },
   "outputs": [],
   "source": [
    "# Importing libraries\n",
    "import pandas as pd\n",
    "import numpy as np\n",
    "from sklearn.compose import ColumnTransformer\n",
    "from sklearn.pipeline import Pipeline\n",
    "from sklearn.preprocessing import StandardScaler, OneHotEncoder, PolynomialFeatures\n",
    "from sklearn.linear_model import LinearRegression\n",
    "from sklearn.model_selection import train_test_split, cross_val_score, KFold, LeaveOneOut\n",
    "from sklearn.neighbors import KNeighborsRegressor\n",
    "from sklearn.ensemble import RandomForestRegressor, GradientBoostingRegressor\n",
    "from scipy.spatial import distance_matrix\n",
    "from tqdm import tqdm\n",
    "from multiprocessing import Pool\n",
    "import time"
   ]
  },
  {
   "cell_type": "markdown",
   "id": "c3dfb5bb-df52-47e8-86af-59048ad67bab",
   "metadata": {},
   "source": [
    "# Fit linear regression to the data"
   ]
  },
  {
   "cell_type": "code",
   "execution_count": 2,
   "id": "22acb86b-6a26-4d99-8982-cbf2e0341914",
   "metadata": {
    "tags": []
   },
   "outputs": [],
   "source": [
    "# Create grid\n",
    "GRID_SIZE = 50\n",
    "latitude = np.repeat(range(GRID_SIZE),GRID_SIZE)\n",
    "longitude = np.tile(np.arange(GRID_SIZE),GRID_SIZE)\n",
    "size = len(longitude)\n",
    "x = np.random.uniform(0,10,size)\n",
    "x1 = np.random.uniform(0,10,size)\n",
    "x2 = np.random.uniform(0,10,size)\n",
    "data = np.random.choice(a = ['a','b','c'], size = size, p=[0.5, 0.3, 0.2])\n",
    "y = x**2 + np.random.normal(0,1,size)\n",
    "df = pd.DataFrame({'longitude':longitude,'latitude':latitude,'x':x,'x1':x1,'x2':x2,'y':y,'class':data})\n",
    "numeric_features = ['x','x1','x2']\n",
    "categorical_features = ['class']\n",
    "location = ['longitude', 'latitude']\n",
    "X,y = df[numeric_features+location+categorical_features],df[['y']]"
   ]
  },
  {
   "cell_type": "markdown",
   "id": "d3b30ebd-c576-4f9d-ab10-1bee9d904932",
   "metadata": {},
   "source": [
    "# IDW using scikit learn KNeighborsRegressor"
   ]
  },
  {
   "cell_type": "code",
   "execution_count": 3,
   "id": "65007c20-48a5-493e-91c5-16e530cef312",
   "metadata": {
    "tags": []
   },
   "outputs": [],
   "source": [
    "def baseline(dictionary, X_train, y_train, X_test, location):\n",
    "    \"\"\"Create base line models for comparison purposes\"\"\"\n",
    "    idw = KNeighborsRegressor(weights='distance')\n",
    "    predicted = idw.fit(X_train[location],y_train)\n",
    "    dictionary['IDW'] = idw.predict(X_test[location])[0][0]\n",
    "    dictionary['Mean_imput'] = np.mean(y_train.iloc[:,0])\n",
    "    return dictionary\n",
    "    \n",
    "def regression(reg_dict, dictionary, X_train, X_test, y_train,  location, string):\n",
    "    \"\"\"Regression models\"\"\"\n",
    "    for name,reg in reg_dict.items():\n",
    "        name = name+string\n",
    "        reg.fit(X_train[location],y_train.values.ravel())\n",
    "        dictionary[name] = reg.predict(X_test[location])[0]\n",
    "    return dictionary\n",
    "\n",
    "def IDW_per_feature(X_train, X_test, numeric_features, location):\n",
    "    \"\"\" IDW per feature\"\"\"\n",
    "    X_predicted = X_test.copy()\n",
    "    for col in numeric_features:\n",
    "        idw = KNeighborsRegressor(weights='distance')\n",
    "        predicted = idw.fit(X_train[location],X_train[col])\n",
    "        X_predicted[col] = idw.predict(X_test[location])\n",
    "        return X_predicted\n",
    "\n",
    "def create_regression_models():\n",
    "    \"\"\" Create regression models \"\"\"\n",
    "    reg_RF = RandomForestRegressor()\n",
    "    reg_GB = GradientBoostingRegressor()\n",
    "    return {'rff':reg_RF,'xgb':reg_GB}\n",
    "\n",
    "def return_index_point_outside_radius(X_train, X_test, distance,location):\n",
    "    \"\"\"Return index where the points lie outside of the circle\"\"\"\n",
    "    distance_np = distance_matrix(X_train[location],X_test[location])\n",
    "    x_test_index = X_test.index.values[0]\n",
    "    distance_df = pd.DataFrame(distance_np)\n",
    "    new_index = {i: i+1 if i >= x_test_index else i for i in range(len(distance_np))}\n",
    "    distance_df = distance_df.rename(index=new_index)\n",
    "    return distance_df[distance_df.iloc[:,0]>distance].index.to_numpy()\n",
    "\n",
    "\n",
    "def return_same_class(X_train, y_train, X_test):\n",
    "    \"\"\"Returns only the values that share the same class as the gridcell at X_test\"\"\"\n",
    "    X_train_new = X_train[X_train['class'] == X_test['class'].iloc[0]]\n",
    "    y_train_new = y_train.loc[X_train_new.index.to_numpy()]\n",
    "    \n",
    "    return X_train_new,y_train_new\n",
    "    "
   ]
  },
  {
   "cell_type": "code",
   "execution_count": 4,
   "id": "87143128-4fa5-4043-9b99-2cde33749274",
   "metadata": {
    "tags": []
   },
   "outputs": [
    {
     "ename": "NameError",
     "evalue": "name 'time' is not defined",
     "output_type": "error",
     "traceback": [
      "\u001b[0;31m---------------------------------------------------------------------------\u001b[0m",
      "\u001b[0;31mNameError\u001b[0m                                 Traceback (most recent call last)",
      "Cell \u001b[0;32mIn[4], line 4\u001b[0m\n\u001b[1;32m      2\u001b[0m prediction_dict \u001b[38;5;241m=\u001b[39m {}\n\u001b[1;32m      3\u001b[0m distance \u001b[38;5;241m=\u001b[39m \u001b[38;5;241m10\u001b[39m\n\u001b[0;32m----> 4\u001b[0m start \u001b[38;5;241m=\u001b[39m \u001b[43mtime\u001b[49m\u001b[38;5;241m.\u001b[39mperf_counter()\n\u001b[1;32m      5\u001b[0m \u001b[38;5;28;01mfor\u001b[39;00m i, (train_index, test_index) \u001b[38;5;129;01min\u001b[39;00m tqdm(\u001b[38;5;28menumerate\u001b[39m(loo\u001b[38;5;241m.\u001b[39msplit(X))):\n\u001b[1;32m      6\u001b[0m     \u001b[38;5;66;03m# Separeta the data\u001b[39;00m\n\u001b[1;32m      7\u001b[0m     X_train_og, X_test_og, y_train_og, y_test_og \u001b[38;5;241m=\u001b[39m X\u001b[38;5;241m.\u001b[39mloc[train_index], X\u001b[38;5;241m.\u001b[39mloc[test_index], y\u001b[38;5;241m.\u001b[39mloc[train_index], y\u001b[38;5;241m.\u001b[39mloc[test_index]\n",
      "\u001b[0;31mNameError\u001b[0m: name 'time' is not defined"
     ]
    }
   ],
   "source": [
    "loo = LeaveOneOut()\n",
    "prediction_dict = {}\n",
    "distance = 10\n",
    "start = time.perf_counter()\n",
    "for i, (train_index, test_index) in tqdm(enumerate(loo.split(X))):\n",
    "    # Separeta the data\n",
    "    X_train_og, X_test_og, y_train_og, y_test_og = X.loc[train_index], X.loc[test_index], y.loc[train_index], y.loc[test_index]\n",
    "    # Cut out the buffer here\n",
    "    index_cut = return_index_point_outside_radius(X_train_og, X_test_og, distance,location)\n",
    "    X_train_cut, y_train_cut = X_train_og.loc[index_cut], y_train_og.loc[index_cut]\n",
    "    # Choose only the points that is the same category as y_test\n",
    "    X_train, y_train = return_same_class(X_train_cut, y_train_cut, X_test_og)\n",
    "    y_test, X_test = y_test_og, X_test_og\n",
    "    base_dict = {}\n",
    "    base_dict['CSO'] = y_test.values[0][0]\n",
    "    # Baseline calculation\n",
    "    base_dict = baseline(base_dict, X_train, y_train, X_test,location)\n",
    "    \n",
    "    # Regression only location, no additional variables\n",
    "    reg_dict = create_regression_models()\n",
    "    base_dict = regression(reg_dict, base_dict, X_train, X_test, y_train,  location, '')\n",
    "        \n",
    "    # IDW on the test point for the features\n",
    "    X_predicted = IDW_per_feature(X_train, X_test, numeric_features, location)\n",
    "    \n",
    "    # Regression using additional variables\n",
    "    reg_dict_additional = create_regression_models()\n",
    "    base_dict = regression(reg_dict_additional,base_dict, X_train, X_predicted, y_train, location, 'additional')\n",
    "    \n",
    "    # Update dictionary at test location\n",
    "    prediction_dict[test_index[0]] = base_dict\n",
    "finish  = time.perf_counter()\n",
    "print(f'{finish-start:.3f}')"
   ]
  },
  {
   "cell_type": "code",
   "execution_count": null,
   "id": "b11436ec-b98f-4a87-b01f-e9dc43ced5d4",
   "metadata": {
    "tags": []
   },
   "outputs": [],
   "source": [
    "def process_data(args):\n",
    "    i, (train_index, test_index), X, y, numeric_features, location, distance = args\n",
    "    X_train_og, X_test_og, y_train_og, y_test_og = X.loc[train_index], X.loc[test_index], y.loc[train_index], y.loc[test_index]\n",
    "    # Cut out the buffer here\n",
    "    index_cut = return_index_point_outside_radius(X_train_og, X_test_og, distance,location)\n",
    "    X_train_cut, y_train_cut = X_train_og.loc[index_cut], y_train_og.loc[index_cut]\n",
    "    # Choose only the points that is the same category as y_test\n",
    "    X_train, y_train = return_same_class(X_train_cut, y_train_cut, X_test_og)\n",
    "    y_test, X_test = y_test_og, X_test_og\n",
    "    base_dict = {}\n",
    "    base_dict['CSO'] = y_test.values[0][0]\n",
    "    # Baseline calculation\n",
    "    base_dict = baseline(base_dict, X_train, y_train, X_test,location)\n",
    "\n",
    "    # Regression only location, no additional variables\n",
    "    reg_dict = create_regression_models()\n",
    "    base_dict = regression(reg_dict, base_dict, X_train, X_test, y_train,  location, '')\n",
    "        \n",
    "    # IDW on the test point for the features\n",
    "    X_predicted = IDW_per_feature(X_train, X_test, numeric_features, location)\n",
    "    \n",
    "    # Regression using additional variables\n",
    "    reg_dict_additional = create_regression_models()\n",
    "    base_dict = regression(reg_dict_additional,base_dict, X_train, X_predicted, y_train, location, 'additional')\n",
    "    \n",
    "    # Update dictionary at test location\n",
    "    # prediction_dict[test_index[0]] = base_dict\n",
    "    return (test_index[0],base_dict)"
   ]
  },
  {
   "cell_type": "code",
   "execution_count": null,
   "id": "fe4f5f36-85ef-4296-845c-21125eff95fe",
   "metadata": {
    "tags": []
   },
   "outputs": [],
   "source": [
    "start = time.perf_counter()\n",
    "prediction_dict = {}\n",
    "if __name__ == '__main__':\n",
    "    pool = Pool(cpu_count())\n",
    "    args = [(i, (train_index, test_index), X, y, numeric_features, location, distance) for i, (train_index, test_index) in enumerate(loo.split(X))]\n",
    "    prediction_dict = dict(tqdm(pool.imap_unordered(process_data, args), total=len(args)))\n",
    "    pool.close()\n",
    "    pool.join()\n",
    "finish  = time.perf_counter()\n",
    "print(f'{finish-start:.3f}')"
   ]
  },
  {
   "cell_type": "code",
   "execution_count": null,
   "id": "9daaefbc-a169-44c8-98c8-1c1c42e56c97",
   "metadata": {
    "tags": []
   },
   "outputs": [],
   "source": [
    "pd.DataFrame.from_dict(prediction_dict).T"
   ]
  },
  {
   "cell_type": "code",
   "execution_count": null,
   "id": "6b688a83-5a52-4b8d-82af-0e029b4d8c49",
   "metadata": {},
   "outputs": [],
   "source": []
  }
 ],
 "metadata": {
  "kernelspec": {
   "display_name": "Python 3 (ipykernel)",
   "language": "python",
   "name": "python3"
  },
  "language_info": {
   "codemirror_mode": {
    "name": "ipython",
    "version": 3
   },
   "file_extension": ".py",
   "mimetype": "text/x-python",
   "name": "python",
   "nbconvert_exporter": "python",
   "pygments_lexer": "ipython3",
   "version": "3.10.6"
  }
 },
 "nbformat": 4,
 "nbformat_minor": 5
}
